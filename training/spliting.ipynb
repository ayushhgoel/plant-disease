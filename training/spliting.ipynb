{
 "cells": [
  {
   "cell_type": "code",
   "execution_count": 1,
   "id": "7e8d1367-4741-49ea-90c6-e37d8c519f55",
   "metadata": {},
   "outputs": [
    {
     "ename": "FileNotFoundError",
     "evalue": "[Errno 2] No such file or directory: 'dataPrep/processed'",
     "output_type": "error",
     "traceback": [
      "\u001b[31m---------------------------------------------------------------------------\u001b[39m",
      "\u001b[31mFileNotFoundError\u001b[39m                         Traceback (most recent call last)",
      "\u001b[36mCell\u001b[39m\u001b[36m \u001b[39m\u001b[32mIn[1]\u001b[39m\u001b[32m, line 17\u001b[39m\n\u001b[32m     15\u001b[39m \u001b[38;5;66;03m# Create output folders\u001b[39;00m\n\u001b[32m     16\u001b[39m \u001b[38;5;28;01mfor\u001b[39;00m split \u001b[38;5;129;01min\u001b[39;00m [\u001b[33m'\u001b[39m\u001b[33mtrain\u001b[39m\u001b[33m'\u001b[39m, \u001b[33m'\u001b[39m\u001b[33mval\u001b[39m\u001b[33m'\u001b[39m, \u001b[33m'\u001b[39m\u001b[33mtest\u001b[39m\u001b[33m'\u001b[39m]:\n\u001b[32m---> \u001b[39m\u001b[32m17\u001b[39m     \u001b[38;5;28;01mfor\u001b[39;00m class_name \u001b[38;5;129;01min\u001b[39;00m \u001b[43mos\u001b[49m\u001b[43m.\u001b[49m\u001b[43mlistdir\u001b[49m\u001b[43m(\u001b[49m\u001b[43moriginal_dir\u001b[49m\u001b[43m)\u001b[49m:\n\u001b[32m     18\u001b[39m         os.makedirs(os.path.join(base_dir, split, class_name), exist_ok=\u001b[38;5;28;01mTrue\u001b[39;00m)\n\u001b[32m     20\u001b[39m \u001b[38;5;66;03m# For each class\u001b[39;00m\n",
      "\u001b[31mFileNotFoundError\u001b[39m: [Errno 2] No such file or directory: 'dataPrep/processed'"
     ]
    }
   ],
   "source": [
    "import os\n",
    "import shutil\n",
    "import random\n",
    "from sklearn.model_selection import train_test_split\n",
    "\n",
    "# Paths\n",
    "original_dir = \"processed\"  # replace with your actual dataset folder\n",
    "base_dir = \"dataPrep\"               # where train/val/test will be stored\n",
    "\n",
    "# Ratios\n",
    "train_ratio = 0.7\n",
    "val_ratio = 0.15\n",
    "test_ratio = 0.15\n",
    "\n",
    "# Create output folders\n",
    "for split in ['train', 'val', 'test']:\n",
    "    for class_name in os.listdir(original_dir):\n",
    "        os.makedirs(os.path.join(base_dir, split, class_name), exist_ok=True)\n",
    "\n",
    "# For each class\n",
    "for class_name in os.listdir(original_dir):\n",
    "    class_path = os.path.join(original_dir, class_name)\n",
    "\n",
    "    if not os.path.isdir(class_path):\n",
    "        continue\n",
    "\n",
    "    images = [img for img in os.listdir(class_path) if img.lower().endswith(('.png', '.jpg', '.jpeg'))]\n",
    "\n",
    "    if len(images) < 10:\n",
    "        print(f\"Skipping class '{class_name}' (not enough images)\")\n",
    "        continue\n",
    "\n",
    "    random.shuffle(images)\n",
    "\n",
    "    # Split\n",
    "    train_imgs, temp_imgs = train_test_split(images, test_size=(1-train_ratio), random_state=100)\n",
    "    val_imgs, test_imgs = train_test_split(temp_imgs, test_size=test_ratio/(val_ratio + test_ratio), random_state=100)\n",
    "\n",
    "    # Copy to respective folders\n",
    "    for img in train_imgs:\n",
    "        shutil.copy(os.path.join(class_path, img), os.path.join(base_dir, 'train', class_name, img))\n",
    "    for img in val_imgs:\n",
    "        shutil.copy(os.path.join(class_path, img), os.path.join(base_dir, 'val', class_name, img))\n",
    "    for img in test_imgs:\n",
    "        shutil.copy(os.path.join(class_path, img), os.path.join(base_dir, 'test', class_name, img))\n",
    "\n",
    "    print(f\"Done: {class_name} - Total: {len(images)}, Train: {len(train_imgs)}, Val: {len(val_imgs)}, Test: {len(test_imgs)}\")\n",
    "\n",
    "print(\"\\n✅ Dataset successfully split into train/val/test folders.\")\n"
   ]
  }
 ],
 "metadata": {
  "kernelspec": {
   "display_name": "Python 3 (ipykernel)",
   "language": "python",
   "name": "python3"
  },
  "language_info": {
   "codemirror_mode": {
    "name": "ipython",
    "version": 3
   },
   "file_extension": ".py",
   "mimetype": "text/x-python",
   "name": "python",
   "nbconvert_exporter": "python",
   "pygments_lexer": "ipython3",
   "version": "3.11.11"
  }
 },
 "nbformat": 4,
 "nbformat_minor": 5
}
